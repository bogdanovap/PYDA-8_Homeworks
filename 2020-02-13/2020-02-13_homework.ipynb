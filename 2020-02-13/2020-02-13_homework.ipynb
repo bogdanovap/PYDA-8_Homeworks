{
 "cells": [
  {
   "cell_type": "markdown",
   "metadata": {},
   "source": [
    "**Задание 1**. Даны 2 строки: *long_phrase* и *short_phrase*. \n",
    "Напишите код, который проверяет действительно ли длинная фраза *long_phrase* длиннее короткой *short_phrase*. И выводит *True* или *False* в зависимости от результата сравнения."
   ]
  },
  {
   "cell_type": "code",
   "execution_count": 2,
   "metadata": {},
   "outputs": [],
   "source": [
    "long_phrase = 'Насколько проще было бы писать программы, если бы не заказчики'\n",
    "short_phrase = '640Кб должно хватить для любых задач. Билл Гейтс (по легенде)'"
   ]
  },
  {
   "cell_type": "code",
   "execution_count": 3,
   "metadata": {},
   "outputs": [
    {
     "data": {
      "text/plain": [
       "True"
      ]
     },
     "execution_count": 3,
     "metadata": {},
     "output_type": "execute_result"
    }
   ],
   "source": [
    "len(long_phrase) > len(short_phrase)"
   ]
  },
  {
   "cell_type": "markdown",
   "metadata": {},
   "source": [
    "**Задание 2**. Дано значение объема файла в байтах (*в мегабайте 2^20 байт*). Напишите перевод этого значения в мегабайты в формате: \"*Объем файла равен 213.68Mb*\"."
   ]
  },
  {
   "cell_type": "code",
   "execution_count": 29,
   "metadata": {},
   "outputs": [
    {
     "name": "stdout",
     "output_type": "stream",
     "text": [
      "Введите текст файл: 224059719\n",
      "Объем файла равен   213.68Mb\n"
     ]
    }
   ],
   "source": [
    "file_size = int(input(\"Введите текст файл: \"))\n",
    "bytes_in_megabytes = 2 ** 20\n",
    "print(\"Объем файла равен %8.2fMb\" % (file_size / bytes_in_megabytes))"
   ]
  },
  {
   "cell_type": "markdown",
   "metadata": {},
   "source": [
    "**Задание 3**. Разработать приложение для определения знака зодиака по дате рождения. Пример:\n",
    "\n",
    "Введите месяц: март\n",
    "\n",
    "Введите число: 6\n",
    "\n",
    "Вывод:\n",
    "Рыбы"
   ]
  },
  {
   "cell_type": "code",
   "execution_count": 19,
   "metadata": {},
   "outputs": [
    {
     "name": "stdout",
     "output_type": "stream",
     "text": [
      "Введите месяц: май\n",
      "Введите число: 14\n",
      "Вывод:  Телец\n"
     ]
    }
   ],
   "source": [
    "month_name = input(\"Введите месяц: \")\n",
    "date = int(input(\"Введите число: \"))\n",
    "result = \"\"\n",
    "if (1 <= date <= 31):\n",
    "    if month_name == \"январь\":\n",
    "        if date <= 19:\n",
    "            result = \"Козерог\"\n",
    "        else:\n",
    "            result = \"Водолей\"\n",
    "    elif month_name == \"февраль\":\n",
    "        if date <= 18:\n",
    "            result = \"Водолей\"\n",
    "        else:\n",
    "            result = \"Рыбы\"\n",
    "    elif month_name == \"март\":\n",
    "        if date <= 20:\n",
    "            result = \"Рыбы\"\n",
    "        else:\n",
    "            result = \"Овен\"\n",
    "    elif month_name == \"апрель\":\n",
    "        if date <= 19:\n",
    "            result = \"Овен\"\n",
    "        else:\n",
    "            result = \"Телец\"\n",
    "    elif month_name == \"май\":\n",
    "        if date <= 20:\n",
    "            result = \"Телец\"\n",
    "        else:\n",
    "            result = \"Близнецы\"\n",
    "    elif month_name == \"июнь\":\n",
    "        if date <= 20:\n",
    "            result = \"Близнецы\"\n",
    "        else:\n",
    "            result = \"Рак\"\n",
    "    elif month_name == \"июль\":\n",
    "        if date <= 22:\n",
    "            result = \"Рак\"\n",
    "        else:\n",
    "            result = \"Лев\"\n",
    "    elif month_name == \"август\":\n",
    "        if date <= 22:\n",
    "            result = \"Лев\"\n",
    "        else:\n",
    "            result = \"Дева\"        \n",
    "    elif month_name == \"сентябрь\":\n",
    "        if date <= 22:\n",
    "            result = \"Дева\"\n",
    "        else:\n",
    "            result = \"Весы\"   \n",
    "    elif month_name == \"октябрь\":\n",
    "        if date <= 22:\n",
    "            result = \"Весы\"\n",
    "        else:\n",
    "            result = \"Скорпион\" \n",
    "    elif month_name == \"ноябрь\":\n",
    "        if date <= 21:\n",
    "            result = \"Скорпион\"\n",
    "        else:\n",
    "            result = \"Стрелец\" \n",
    "    elif month_name == \"декабрь\":\n",
    "        if date <= 21:\n",
    "            result = \"Стрелец\"\n",
    "        else:\n",
    "            result = \"Козерог\" \n",
    "    else:\n",
    "        print(\"месяц указан не верно!\")\n",
    "else:\n",
    "    print(\"число указано не верно!\")\n",
    "\n",
    "if result:\n",
    "    print(\"Вывод: \", result)"
   ]
  },
  {
   "cell_type": "markdown",
   "metadata": {},
   "source": [
    "**Задание 4**. Нужно разработать приложение для финансового планирования.\n",
    "Приложение учитывает сколько уходит на ипотеку, \"на жизнь\" и сколько нужно отложить на пенсию.\n",
    "Пользователь вводит:\n",
    "- заработанную плату в месяц.\n",
    "- сколько процентов от ЗП уходит на ипотеку.\n",
    "- сколько процентов от ЗП уходит \"на жизнь\".\n",
    "- сколько раз приходит премия в год.\n",
    "\n",
    "Остальная часть заработанной платы откладывается на пенсию.\n",
    "\n",
    "Также пользователю приходит премия в размере зарплаты, от которой половина уходит на отпуск, а вторая половина откладывается.\n",
    "\n",
    "Программа должна учитывать сколько премий было в год.\n",
    "\n",
    "Нужно вывести сколько денег тратит пользователь на ипотеку и сколько он накопит за год.\n",
    "\n",
    "Пример:\n",
    "\n",
    "Введите заработанную плату в месяц: 100000\n",
    "\n",
    "Введите сколько процентов уходит на ипотеку: 30\n",
    "\n",
    "Введите сколько процентов уходит на жизнь: 50\n",
    "\n",
    "Введите количество премий за год: 2\n",
    "\n",
    "Вывод:\n",
    "На ипотеку было потрачено: 360000 рублей\n",
    "Было накоплено: 340000 рублей"
   ]
  },
  {
   "cell_type": "code",
   "execution_count": 31,
   "metadata": {},
   "outputs": [
    {
     "name": "stdout",
     "output_type": "stream",
     "text": [
      "Введите заработанную плату в месяц: 100000\n",
      "Введите сколько процентов уходит на ипотеку: 30\n",
      "Введите сколько процентов уходит на жизнь: 50\n",
      "Введите количество премий за год: 2\n",
      "Вывод:\tНа ипотеку было потрачено: 360000.00 рублей\n",
      "\tБыло накоплено: 340000.00 рублей\n"
     ]
    }
   ],
   "source": [
    "month_salary = int(input(\"Введите заработанную плату в месяц: \"))\n",
    "morgage_percent = int(input(\"Введите сколько процентов уходит на ипотеку: \")) / 100\n",
    "other_percent = int(input(\"Введите сколько процентов уходит на жизнь: \")) / 100\n",
    "num_bonus = int(input(\"Введите количество премий за год: \"))\n",
    "\n",
    "bonus_to_vacation = 0.5\n",
    "bonus_to_savings = 0.5\n",
    "\n",
    "morgage_paid = month_salary * morgage_percent * 12\n",
    "\n",
    "savings =  (month_salary * (1 - (other_percent+morgage_percent)) * 12)\\\n",
    "            + month_salary * num_bonus * bonus_to_savings\n",
    "\n",
    "print(\"Вывод:\\tНа ипотеку было потрачено: %.2f рублей\\n\\tБыло накоплено: %.2f рублей\" % (morgage_paid, savings))"
   ]
  }
 ],
 "metadata": {
  "kernelspec": {
   "display_name": "Python 3",
   "language": "python",
   "name": "python3"
  },
  "language_info": {
   "codemirror_mode": {
    "name": "ipython",
    "version": 3
   },
   "file_extension": ".py",
   "mimetype": "text/x-python",
   "name": "python",
   "nbconvert_exporter": "python",
   "pygments_lexer": "ipython3",
   "version": "3.8.1"
  }
 },
 "nbformat": 4,
 "nbformat_minor": 2
}
