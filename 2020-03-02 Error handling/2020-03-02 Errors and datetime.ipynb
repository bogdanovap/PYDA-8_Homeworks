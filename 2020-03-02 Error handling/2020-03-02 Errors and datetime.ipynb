{
 "cells": [
  {
   "cell_type": "markdown",
   "metadata": {},
   "source": [
    "### Задание 1\n",
    "Напишите функцию date_range, которая возвращает список дней между датами start_date и end_date. Даты должны вводиться в формате YYYY-MM-DD.\n",
    "\n",
    "### Задание 2\n",
    "Дополните функцию из первого задания проверкой на корректность дат. В случае неверного формата или если start_date > end_date должен возвращаться пустой список."
   ]
  },
  {
   "cell_type": "code",
   "execution_count": 1,
   "metadata": {},
   "outputs": [
    {
     "name": "stdout",
     "output_type": "stream",
     "text": [
      "Введите первую дату в формате YYYY-MM-DD: 2018-01-01\n",
      "Введите последнюю дату в формате YYYY-MM-DD: 2018-01-05\n"
     ]
    },
    {
     "data": {
      "text/plain": [
       "[datetime.datetime(2018, 1, 1, 0, 0),\n",
       " datetime.datetime(2018, 1, 2, 0, 0),\n",
       " datetime.datetime(2018, 1, 3, 0, 0),\n",
       " datetime.datetime(2018, 1, 4, 0, 0),\n",
       " datetime.datetime(2018, 1, 5, 0, 0)]"
      ]
     },
     "execution_count": 1,
     "metadata": {},
     "output_type": "execute_result"
    }
   ],
   "source": [
    "from datetime import datetime, timedelta\n",
    "\n",
    "def date_range(start_date, end_date):\n",
    "    list_dates = []\n",
    "    \n",
    "    try:\n",
    "        cur_date = datetime.strptime(start_date,\"%Y-%m-%d\")\n",
    "        finish_date = datetime.strptime(end_date,\"%Y-%m-%d\")\n",
    "    except:\n",
    "        print(\"Ошибка преобразования строки в дату\")\n",
    "        return list_dates\n",
    "    \n",
    "    while cur_date <= finish_date:\n",
    "        list_dates.append(cur_date)\n",
    "        cur_date += timedelta(days=1)\n",
    "        \n",
    "    return list_dates\n",
    "\n",
    "start_date = input(\"Введите первую дату в формате YYYY-MM-DD: \")\n",
    "end_date = input(\"Введите последнюю дату в формате YYYY-MM-DD: \")\n",
    "# start_date = \"2020-01-01\"\n",
    "# end_date = \"2020-01-05\"\n",
    "\n",
    "date_range(start_date, end_date)\n"
   ]
  },
  {
   "cell_type": "markdown",
   "metadata": {},
   "source": [
    "### Задание 3\n",
    "\n",
    "Дан поток дат в формате YYYY-MM-DD, в которых встречаются некорректные значения:\n",
    "stream = [‘2018-04-02’, ‘2018-02-29’, ‘2018-19-02’]\n",
    "\n",
    "Напишите функцию, которая проверяет эти даты на корректность. Т. е. для каждой даты возвращает True (дата корректна) или False (некорректная дата)."
   ]
  },
  {
   "cell_type": "code",
   "execution_count": 2,
   "metadata": {},
   "outputs": [
    {
     "name": "stdout",
     "output_type": "stream",
     "text": [
      "2018-04-02 True\n",
      "2018-02-29 False\n",
      "2018-19-02 False\n"
     ]
    }
   ],
   "source": [
    "from datetime import datetime\n",
    "\n",
    "def try_parse(date_str):\n",
    "    try:\n",
    "        datetime.strptime(date_str,\"%Y-%m-%d\")\n",
    "    except:\n",
    "#         print(\"Ошибка преобразования строки в дату\")\n",
    "        return False\n",
    "    \n",
    "    return True\n",
    "\n",
    "\n",
    "stream = [\"2018-04-02\", \"2018-02-29\", \"2018-19-02\"]\n",
    "\n",
    "for item in stream:\n",
    "    print(f\"{item} {try_parse(item)}\")"
   ]
  },
  {
   "cell_type": "markdown",
   "metadata": {},
   "source": [
    "### Задание 4 (бонусное)\n",
    "Ваш коллега прислал код функции:\n",
    "```python\n",
    "DEFAULT_USER_COUNT = 3\n",
    "def delete_and_return_last_user(region, default_list=[‘A100’, ‘A101’, ‘A102’]):\n",
    "    \"\"\"\n",
    "    Удаляет из списка default_list последнего пользователя\n",
    "    и возвращает ID нового последнего пользователя.\n",
    "    \"\"\"\n",
    "    element_to_delete = default_list[-1]\n",
    "    default_list.remove(element_to_delete)\n",
    "\n",
    "    return default_list[DEFAULT_USER_COUNT-2]\n",
    "```\n",
    "\n",
    "При однократном вызове этой функции все работает корректно:\n",
    "delete_and_return_last_user(1)\n",
    "‘A101’\n",
    "\n",
    "Однако, при повторном вызове получается ошибка IndexError: list index out of range.\n",
    "\n",
    "Задание:\n",
    "\n",
    "* Что значит ошибка list index out of range?\n",
    "    * Функция обращается к элементу по индексу, который находится за пределами множества от 0 до len(list)-1\n",
    "* Почему при первом запуске функция работает корректно, а при втором - нет?\n",
    "    * В нашем случае ошибка заключается в использовании внешней (по отношению к функции) переменной, содержащей длину списка. Я думаю, следует отказаться от использования такой переменной вообще и использовать индекс -1, если в списке есть значения"
   ]
  },
  {
   "cell_type": "code",
   "execution_count": 3,
   "metadata": {},
   "outputs": [],
   "source": [
    "#DEFAULT_USER_COUNT = 3\n",
    "\n",
    "def delete_and_return_last_user(region, default_list=[\"A100\", \"A101\", \"A102\"]):\n",
    "    \"\"\"\n",
    "    Удаляет из списка default_list последнего пользователя\n",
    "    и возвращает ID нового последнего пользователя.\n",
    "    \"\"\"\n",
    "    if len(default_list)==0:\n",
    "        print(\"список не содержит элементов\")\n",
    "        return None\n",
    "    else:\n",
    "        element_to_delete = default_list[-1]\n",
    "        default_list.remove(element_to_delete)\n",
    "        \n",
    "    return default_list[-1] if len(default_list)>0 else None\n",
    "\n",
    "delete_and_return_last_user(0)\n",
    "delete_and_return_last_user(0)\n",
    "delete_and_return_last_user(0)\n"
   ]
  },
  {
   "cell_type": "code",
   "execution_count": null,
   "metadata": {},
   "outputs": [],
   "source": []
  }
 ],
 "metadata": {
  "kernelspec": {
   "display_name": "Python 3",
   "language": "python",
   "name": "python3"
  },
  "language_info": {
   "codemirror_mode": {
    "name": "ipython",
    "version": 3
   },
   "file_extension": ".py",
   "mimetype": "text/x-python",
   "name": "python",
   "nbconvert_exporter": "python",
   "pygments_lexer": "ipython3",
   "version": "3.8.1"
  }
 },
 "nbformat": 4,
 "nbformat_minor": 4
}
