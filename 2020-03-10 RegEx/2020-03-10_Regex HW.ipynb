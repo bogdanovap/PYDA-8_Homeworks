{
 "cells": [
  {
   "cell_type": "markdown",
   "metadata": {},
   "source": [
    "**Задание 1.** Напишите функцию, которая принимает на вход строку и проверяет является ли она валидным транспортным номером. Если да, то функция должна возвращать отдельно номер и регион."
   ]
  },
  {
   "cell_type": "code",
   "execution_count": 1,
   "metadata": {},
   "outputs": [
    {
     "name": "stdout",
     "output_type": "stream",
     "text": [
      "Введите номер ТС в формате А876БВ750RUS: Н818СВ59RUS\n",
      "Номер введен верно\n",
      "Номер авто: Н818СВ\n",
      "Регион: 59RUS\n"
     ]
    }
   ],
   "source": [
    "import re\n",
    "text = input(\"Введите номер ТС в формате А876БВ750RUS: \")\n",
    "# text = \"Н123СВ750RUS\"\n",
    "# понимаю, что должны быть только некоторые буквы, а не все\n",
    "# можно через перечисление прописать нужные символы\n",
    "regex = '([А-Я]{1}\\d{3}[А-Я]{2})(\\d{2,3}[A-Z]{3})'\n",
    "if re.match(regex,text):\n",
    "    print(\"Номер введен верно\")\n",
    "    print(f\"Номер авто: {re.findall(regex,text)[0][0]}\\nРегион: {re.findall(regex,text)[0][1]}\")\n",
    "else:\n",
    "    print(\"Номер введен НЕ верно\")\n"
   ]
  },
  {
   "cell_type": "markdown",
   "metadata": {},
   "source": [
    "**Задание 2**. Напишите функцию, которая проверяет e-mail адрес на валидность по стандарту RFC822: http://www.w3.org/Protocols/rfc822/. Для этого постарайтесь написать (в крайнем случае найти) самый полный шаблон для проверки e-mail адресов через регулярное выражение. Разберитесь и напишите примеры, какие ваш шаблон может не охватить."
   ]
  },
  {
   "cell_type": "code",
   "execution_count": 2,
   "metadata": {},
   "outputs": [
    {
     "name": "stdout",
     "output_type": "stream",
     "text": [
      "The mail yemolai+hello+amps@gmail.com is valid\n",
      "\tlocal: yemolai\n",
      "\troute: +hello+amps\n",
      "\tdomain: gmail.com\n",
      "The mail romulogabriel@outlook.com.br is valid\n",
      "\tlocal: romulogabriel\n",
      "\troute: \n",
      "\tdomain: outlook.com.br\n",
      "The mail a13b3440.junior@gmail.jp is valid\n",
      "\tlocal: a13b3440.junior\n",
      "\troute: \n",
      "\tdomain: gmail.jp\n",
      "The mail gabriel.rodrigues@sedop.pa.gov.br is valid\n",
      "\tlocal: gabriel.rodrigues\n",
      "\troute: \n",
      "\tdomain: sedop.pa.gov.br\n",
      "The mail rubens.junior00k@hotmail-p.com is valid\n",
      "\tlocal: rubens.junior00k\n",
      "\troute: \n",
      "\tdomain: hotmail-p.com\n",
      "The mail adam.mills@[192.168.1.1] is valid\n",
      "\tlocal: adam.mills\n",
      "\troute: \n",
      "\tdomain: [192.168.1.1]\n",
      "The mail a@B.com is valid\n",
      "\tlocal: a\n",
      "\troute: \n",
      "\tdomain: B.com\n"
     ]
    }
   ],
   "source": [
    "# формула с сайта https://regex101.com/library/92BLnD\n",
    "\n",
    "import re\n",
    "\n",
    "regex = r\"^([a-zA-Z0-9\\.!#$%&'*\\-\\/=?^_`{|}~\\\"]+)(?:\\.)?([a-zA-Z0-9\\.!#$%&'*\\-\\/=?^_`{|}~+\\\"]*)(?:@)((?:[a-zA-Z0-9\\-[\\]]*)(?:\\.)(?:[a-zA-Z0-9\\-[\\]\\.]*))$\"\n",
    "\n",
    "mail_list = [\"yemolai+hello+amps@gmail.com\",\"romulogabriel@outlook.com.br\"\n",
    "            ,\"a13b3440.junior@gmail.jp\",\"gabriel.rodrigues@sedop.pa.gov.br\"\n",
    "            ,\"rubens.junior00k@hotmail-p.com\",\"adam.mills@[192.168.1.1]\"\n",
    "            ,\"a@B.com\"]\n",
    "\n",
    "for mail in mail_list:\n",
    "    if re.match(regex, mail):\n",
    "        m = re.match(regex, mail)\n",
    "        print(f'The mail {m.group(0)} is valid')\n",
    "        print(f'\\tlocal: {m.group(1)}')\n",
    "        print(f'\\troute: {m.group(2)}')\n",
    "        print(f'\\tdomain: {m.group(3)}')\n",
    "    else:\n",
    "        print(f'The mail {mail} is invalid')\n",
    "    "
   ]
  },
  {
   "cell_type": "markdown",
   "metadata": {},
   "source": [
    "**Задание 3.** Напишите функцию, которая будет удалять все последовательные повторы слов из заданной строки при помощи регулярных выражений."
   ]
  },
  {
   "cell_type": "code",
   "execution_count": 3,
   "metadata": {},
   "outputs": [
    {
     "name": "stdout",
     "output_type": "stream",
     "text": [
      "hello world\n"
     ]
    }
   ],
   "source": [
    "import re\n",
    "text = \"hello hello world world world\"\n",
    "text = re.sub(r'(\\w+)( \\1)+', r'\\1', text)\n",
    "print(text)"
   ]
  },
  {
   "cell_type": "markdown",
   "metadata": {},
   "source": [
    "**Задание 4**. Напишите функцию, которая будет проверять номер сотового телефона на валидность, если он валиден, то переводить его в формат:   \n",
    "+7(xxx)-xxx-xx-xx  \n",
    "Постарайтесь предусмотреть как можно больше адекватных форматов изначального ввода номера.\n",
    "Примеры валидных форматов:\n",
    "- +7 955 555-55-55;\n",
    "- 9555555555;\n",
    "- 8(955)555-55-55;\n",
    "- +7 955 555 55 55;\n",
    "- 7(955) 555-55-55;\n",
    "- +7 955+555+55+55."
   ]
  },
  {
   "cell_type": "code",
   "execution_count": 4,
   "metadata": {},
   "outputs": [
    {
     "name": "stdout",
     "output_type": "stream",
     "text": [
      "The phone +7 955 555-55-55 is a valid phone\n",
      "+7(955)-555-55-55\n",
      "The phone 9555555555 is a valid phone\n",
      "+7(955)-555-55-55\n",
      "The phone 8(955)555-55-55 is a valid phone\n",
      "+7(955)-555-55-55\n",
      "The phone +7 955 555 55 55 is a valid phone\n",
      "+7(955)-555-55-55\n",
      "The phone 7(955) 555-55-55 is a valid phone\n",
      "+7(955)-555-55-55\n",
      "The phone +7 955+555+55+55 is a valid phone\n",
      "+7(955)-555-55-55\n"
     ]
    }
   ],
   "source": [
    "import re\n",
    "phone_list = [\"+7 955 555-55-55\",\"9555555555\",\"8(955)555-55-55\",\"+7 955 555 55 55\",\"7(955) 555-55-55\",\"+7 955+555+55+55\"]\n",
    "# можно выводить группы отдельно и тогда из правила можно удалить начальные аргументы\n",
    "# но если нужно сделать замену, то правила должны охватывать всю целевую строку\n",
    "phone_regex = r'[\\+]?[7|8]?[ ]?[\\(]?(\\d{3}){1}[\\)]?[ |\\+]?(\\d{3}){1}[ |\\-|\\+]?(\\d{2}){1}[ |\\-|\\+]?(\\d{2}){1}'\n",
    "for phone in phone_list:\n",
    "#     в нашем случае используем match, т.к. это \"поле формы\"\n",
    "#     в общем случае, наверное, лучше использовать search\n",
    "    if re.search(phone_regex, phone):\n",
    "        print(f'The phone {phone} is a valid phone')\n",
    "        print(re.sub(phone_regex, r'+7(\\1)-\\2-\\3-\\4',phone))\n",
    "    else:\n",
    "        print(f'The phone {phone} is invalid')"
   ]
  },
  {
   "cell_type": "code",
   "execution_count": 5,
   "metadata": {},
   "outputs": [
    {
     "name": "stdout",
     "output_type": "stream",
     "text": [
      "The phone +7 955 555-55-55 is a valid phone\n",
      "+7(955)-555-55-55\n",
      "The phone 9555555555 is a valid phone\n",
      "+7(955)-555-55-55\n",
      "The phone 8(955)555-55-55 is a valid phone\n",
      "+7(955)-555-55-55\n",
      "The phone +7 955 555 55 55 is a valid phone\n",
      "+7(955)-555-55-55\n",
      "The phone 7(955) 555-55-55 is a valid phone\n",
      "+7(955)-555-55-55\n",
      "The phone +7 955+555+55+55 is a valid phone\n",
      "+7(955)-555-55-55\n"
     ]
    }
   ],
   "source": [
    "# это попытка сделать несколько простых правил под каждый вариант и прогонять по ним\n",
    "# но в итоге оставил одно правило\n",
    "import re\n",
    "phone_list = [\"+7 955 555-55-55\",\"9555555555\",\"8(955)555-55-55\",\"+7 955 555 55 55\",\"7(955) 555-55-55\",\"+7 955+555+55+55\"]\n",
    "phone_regex = [r'[\\+]?[7|8]?[ ]?[\\(]?(\\d{3}){1}[\\)]?[ |\\+]?(\\d{3}){1}[ |\\-|\\+]?(\\d{2}){1}[ |\\-|\\+]?(\\d{2}){1}']\n",
    "\n",
    "def check_phone(phone):\n",
    "    for regex in phone_regex:\n",
    "        if re.match(regex, phone):\n",
    "            return True, regex\n",
    "    return False, \"\"\n",
    "\n",
    "for phone in phone_list:\n",
    "    isValid, regex = check_phone(phone)\n",
    "    if isValid:\n",
    "        print(f'The phone {phone} is a valid phone')\n",
    "        print(re.sub(regex, r'+7(\\1)-\\2-\\3-\\4',phone))\n",
    "    else:\n",
    "        print(f'The phone {phone} is invalid')"
   ]
  },
  {
   "cell_type": "code",
   "execution_count": null,
   "metadata": {},
   "outputs": [],
   "source": []
  }
 ],
 "metadata": {
  "kernelspec": {
   "display_name": "Python 3",
   "language": "python",
   "name": "python3"
  },
  "language_info": {
   "codemirror_mode": {
    "name": "ipython",
    "version": 3
   },
   "file_extension": ".py",
   "mimetype": "text/x-python",
   "name": "python",
   "nbconvert_exporter": "python",
   "pygments_lexer": "ipython3",
   "version": "3.8.1"
  }
 },
 "nbformat": 4,
 "nbformat_minor": 2
}
