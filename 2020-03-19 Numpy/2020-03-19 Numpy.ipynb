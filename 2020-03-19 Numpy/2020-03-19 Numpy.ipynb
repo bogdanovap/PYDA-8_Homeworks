{
 "cells": [
  {
   "cell_type": "markdown",
   "metadata": {},
   "source": [
    "### Задание 1\n",
    "Создайте numpy array с элементами от числа N до 0 (например, для N = 10 это будет array([9, 8, 7, 6, 5, 4, 3, 2, 1, 0]))."
   ]
  },
  {
   "cell_type": "code",
   "execution_count": 1,
   "metadata": {},
   "outputs": [
    {
     "data": {
      "text/plain": [
       "array([9, 8, 7, 6, 5, 4, 3, 2, 1, 0])"
      ]
     },
     "execution_count": 1,
     "metadata": {},
     "output_type": "execute_result"
    }
   ],
   "source": [
    "import numpy as np\n",
    "\n",
    "N = 10\n",
    "np.arange(N-1, -1, -1)\n"
   ]
  },
  {
   "cell_type": "markdown",
   "metadata": {},
   "source": [
    "### Задание 2\n",
    "Создайте диагональную матрицу с элементами от N до 0. Посчитайте сумму ее значений на диагонали."
   ]
  },
  {
   "cell_type": "code",
   "execution_count": 2,
   "metadata": {},
   "outputs": [
    {
     "name": "stdout",
     "output_type": "stream",
     "text": [
      "сумма по диагонали = 45\n"
     ]
    }
   ],
   "source": [
    "import numpy as np\n",
    "\n",
    "N = 10\n",
    "mat = np.diag(np.arange(N-1, -1, -1))\n",
    "# print(mat)\n",
    "sum_ = np.trace(mat)\n",
    "\n",
    "# sum_=0\n",
    "# for b in range(min(mat.shape[0],mat.shape[1])):\n",
    "#     sum_+=mat[b][b]\n",
    "\n",
    "print(f\"сумма по диагонали = {sum_}\") "
   ]
  },
  {
   "cell_type": "markdown",
   "metadata": {},
   "source": [
    "### Задание 3\n",
    "Решите систему уравнений:\n",
    "\\begin{equation*}\n",
    "\\LARGE\n",
    "4x + 2y + z = 4 \\\\\n",
    "\\LARGE\n",
    "x + 3y = 12 \\\\\n",
    "\\LARGE\n",
    "5y + 4z = -3\n",
    "\\end{equation*}"
   ]
  },
  {
   "cell_type": "code",
   "execution_count": 3,
   "metadata": {},
   "outputs": [
    {
     "name": "stdout",
     "output_type": "stream",
     "text": [
      "x=0.4667, y=3.8444, z=-5.5556\n"
     ]
    }
   ],
   "source": [
    "import numpy as np\n",
    "from numpy import linalg\n",
    "\n",
    "# left coefs\n",
    "a = np.array( [ [4, 2, 1], [1, 3, 0] , [0, 5, 4]] )\n",
    "# right coefs\n",
    "b = np.array( [4, 12, -3] )\n",
    "# solution\n",
    "res = linalg.solve(a, b)\n",
    "print(f\"x={res[0]:.4f}, y={res[1]:.4f}, z={res[2]:.4f}\")\n",
    "# check\n",
    "# np.allclose( np.dot(a, linalg.solve(a, b)), b )"
   ]
  },
  {
   "cell_type": "markdown",
   "metadata": {},
   "source": [
    "### Задание 4\n",
    "В материалах занятия раздел “Задача 4 домашнего задания”\n",
    "\n",
    "Имеется матрица покупок в интернет-магазине. Столбец А - ID пользователя. Остальные столбцы - количество покупок категорий товаров этим пользователем:\n",
    "\n",
    "На сайт заходит очередной посетитель, о покупках которого известно следующее: next_user_stats = np.array([0, 1, 2, 0, 0, 0])\n",
    "\n",
    "Найдите самого похожего пользователя. Т. е. посчитайте косинусное расстояние между этим пользователем и всеми пользователями из массива user_stats"
   ]
  },
  {
   "cell_type": "code",
   "execution_count": 4,
   "metadata": {},
   "outputs": [
    {
     "name": "stdout",
     "output_type": "stream",
     "text": [
      "самый похожий пользователь: 0\n",
      "косинус угла между векторами составляет: 0.2000\n",
      "вектор покупок для пользователя 'в базе': [2 1 0 0 0 0]\n"
     ]
    }
   ],
   "source": [
    "import numpy as np\n",
    "\n",
    "def cosine( a, b ):\n",
    "    \"\"\"\n",
    "    Подсчет косинуса угла между векторами a, b по их координатам\n",
    "    \"\"\"\n",
    "    \n",
    "    # длины векторов\n",
    "    aLength = np.linalg.norm( a )\n",
    "    bLength = np.linalg.norm( b )\n",
    "    \n",
    "    return np.dot( a, b ) / ( aLength * bLength )\n",
    "\n",
    "users_stats = np.array(\n",
    "    [\n",
    "        [2, 1, 0, 0, 0, 0],\n",
    "        [1, 1, 2, 1, 0, 0],\n",
    "        [2, 0, 1, 0, 0, 0],\n",
    "        [1, 1, 2, 1, 0, 1],\n",
    "        [0, 0, 1, 2, 0, 0],\n",
    "        [0, 0, 0, 0, 0, 5],\n",
    "        [1, 0, 0, 0, 0, 0],\n",
    "        [0, 1, 1, 0, 0, 0],\n",
    "        [0, 0, 0, 1, 1, 3],\n",
    "        [1, 0, 0, 2, 1, 4]\n",
    "    ], \n",
    "    np.int32\n",
    ")\n",
    "next_user_stats = np.array([0, 1, 2, 0, 0, 0])\n",
    "\n",
    "alikes = {}\n",
    "for test_user in range(users_stats.shape[0]):\n",
    "    alike = cosine(next_user_stats, users_stats[test_user])\n",
    "    if alike > 0:\n",
    "        alikes[test_user]=alike\n",
    "\n",
    "best_alikes = sorted(alikes.items(), key=lambda item: item[1], reverse = False) \n",
    "print(f\"самый похожий пользователь: {best_alikes[0][0]}\")\n",
    "print(f\"косинус угла между векторами составляет: {best_alikes[0][1]:.4f}\")\n",
    "print(f\"вектор покупок для пользователя 'в базе': {users_stats[best_alikes[0][0]]}\")"
   ]
  },
  {
   "cell_type": "code",
   "execution_count": null,
   "metadata": {},
   "outputs": [],
   "source": []
  }
 ],
 "metadata": {
  "kernelspec": {
   "display_name": "Python 3",
   "language": "python",
   "name": "python3"
  },
  "language_info": {
   "codemirror_mode": {
    "name": "ipython",
    "version": 3
   },
   "file_extension": ".py",
   "mimetype": "text/x-python",
   "name": "python",
   "nbconvert_exporter": "python",
   "pygments_lexer": "ipython3",
   "version": "3.8.1"
  }
 },
 "nbformat": 4,
 "nbformat_minor": 4
}
