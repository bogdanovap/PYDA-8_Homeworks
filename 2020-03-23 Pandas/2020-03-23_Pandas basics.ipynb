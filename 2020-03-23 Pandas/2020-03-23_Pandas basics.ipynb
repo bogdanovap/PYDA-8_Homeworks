{
 "cells": [
  {
   "cell_type": "markdown",
   "metadata": {},
   "source": [
    "### Задание 1\n",
    "Скачайте с сайта https://grouplens.org/datasets/movielens/ датасет любого размера. Определите какому фильму было выставлено больше всего оценок 5.0."
   ]
  },
  {
   "cell_type": "code",
   "execution_count": 1,
   "metadata": {},
   "outputs": [
    {
     "data": {
      "text/html": [
       "<div>\n",
       "<style scoped>\n",
       "    .dataframe tbody tr th:only-of-type {\n",
       "        vertical-align: middle;\n",
       "    }\n",
       "\n",
       "    .dataframe tbody tr th {\n",
       "        vertical-align: top;\n",
       "    }\n",
       "\n",
       "    .dataframe thead th {\n",
       "        text-align: right;\n",
       "    }\n",
       "</style>\n",
       "<table border=\"1\" class=\"dataframe\">\n",
       "  <thead>\n",
       "    <tr style=\"text-align: right;\">\n",
       "      <th></th>\n",
       "      <th>movieId</th>\n",
       "      <th>rating</th>\n",
       "      <th>title</th>\n",
       "    </tr>\n",
       "  </thead>\n",
       "  <tbody>\n",
       "    <tr>\n",
       "      <th>0</th>\n",
       "      <td>318</td>\n",
       "      <td>153</td>\n",
       "      <td>Shawshank Redemption, The (1994)</td>\n",
       "    </tr>\n",
       "  </tbody>\n",
       "</table>\n",
       "</div>"
      ],
      "text/plain": [
       "   movieId  rating                             title\n",
       "0      318     153  Shawshank Redemption, The (1994)"
      ]
     },
     "execution_count": 1,
     "metadata": {},
     "output_type": "execute_result"
    }
   ],
   "source": [
    "import pandas as pd\n",
    "\n",
    "movies = pd.read_csv('ml-latest-small/movies.csv')\n",
    "# print(movies.head())\n",
    "ratings = pd.read_csv('ml-latest-small/ratings.csv')\n",
    "# print(ratings.head())\n",
    "(ratings[['movieId','rating']].query(\"rating==5.0\") #select only movies with 5.0 rating\n",
    ".groupby('movieId').agg('count') #calculate number of rates\n",
    ".sort_values(by='rating', ascending=False) #sort by number of rates\n",
    ").merge(movies[['movieId','title']], on='movieId', how='left').head(1)"
   ]
  },
  {
   "cell_type": "markdown",
   "metadata": {},
   "source": [
    "### Задание 2\n",
    "По данным файла power.csv посчитайте суммарное потребление стран Прибалтики (Латвия, Литва и Эстония) категорий 4, 12 и 21 за период с 2005 по 2010 года. Не учитывайте в расчетах отрицательные значения quantity."
   ]
  },
  {
   "cell_type": "code",
   "execution_count": 2,
   "metadata": {},
   "outputs": [
    {
     "name": "stdout",
     "output_type": "stream",
     "text": [
      "Cуммарное потребление стран Прибалтики (Латвия, Литва и Эстония): 240580.0\n"
     ]
    }
   ],
   "source": [
    "import pandas as pd\n",
    "\n",
    "def baltic(country):\n",
    "    if country in ['Lithuania','Latvia','Estonia']:\n",
    "        return True\n",
    "    return False\n",
    "\n",
    "data = pd.read_csv('power.csv')\n",
    "data['isBaltic'] = data['country'].apply(baltic)\n",
    "# print(data.head())\n",
    "data_baltics = data.query(\"isBaltic == True\")[['country','quantity','category','year']]\n",
    "# print(data_baltics.head())\n",
    "# data_baltics['country'].unique()\n",
    "data_baltics_filtered = (data_baltics\n",
    ".query('year >= 2005 & year <= 2010')\n",
    ".query('category == 4 | category == 12 | category == 21')\n",
    ".query('quantity > 0')\n",
    ")\n",
    "# data_baltics_filtered.head()\n",
    "# data_baltics_filtered['category'].unique()\n",
    "# data_baltics_filtered.describe()\n",
    "print(f\"Cуммарное потребление стран Прибалтики (Латвия, Литва и Эстония): {data_baltics_filtered['quantity'].sum()}\")"
   ]
  },
  {
   "cell_type": "markdown",
   "metadata": {},
   "source": [
    "### Задание 3\n",
    "Выберите страницу любого сайта с табличными данными. Импортируйте таблицы в pandas dataframe.\n",
    "Примеры страниц (необязательно брать именно эти):\n",
    "https://fortrader.org/quotes\n",
    "https://www.finanz.ru/valyuty/v-realnom-vremeni"
   ]
  },
  {
   "cell_type": "code",
   "execution_count": 3,
   "metadata": {},
   "outputs": [
    {
     "data": {
      "text/html": [
       "<div>\n",
       "<style scoped>\n",
       "    .dataframe tbody tr th:only-of-type {\n",
       "        vertical-align: middle;\n",
       "    }\n",
       "\n",
       "    .dataframe tbody tr th {\n",
       "        vertical-align: top;\n",
       "    }\n",
       "\n",
       "    .dataframe thead th {\n",
       "        text-align: right;\n",
       "    }\n",
       "</style>\n",
       "<table border=\"1\" class=\"dataframe\">\n",
       "  <thead>\n",
       "    <tr style=\"text-align: right;\">\n",
       "      <th></th>\n",
       "      <th>Ticker</th>\n",
       "      <th>Price</th>\n",
       "      <th>Drug</th>\n",
       "      <th>Stage</th>\n",
       "      <th>Catalyst</th>\n",
       "      <th>Last Updated</th>\n",
       "    </tr>\n",
       "  </thead>\n",
       "  <tbody>\n",
       "    <tr>\n",
       "      <th>0</th>\n",
       "      <td>BHVN</td>\n",
       "      <td>$35.28  -0.53 -1.48%</td>\n",
       "      <td>Rimegepant Migraine - preventative</td>\n",
       "      <td>Phase 3</td>\n",
       "      <td>1Q 2020  01/14/2020  Phase 3 top-line data due...</td>\n",
       "      <td>02/25/2020</td>\n",
       "    </tr>\n",
       "    <tr>\n",
       "      <th>1</th>\n",
       "      <td>DRRX</td>\n",
       "      <td>$1.56  +0.06 +4.00%</td>\n",
       "      <td>POSIMIR Post-operative pain relief</td>\n",
       "      <td>PDUFA</td>\n",
       "      <td>Revised PDUFA not announced  03/27/2020  CRL F...</td>\n",
       "      <td>01/17/2020</td>\n",
       "    </tr>\n",
       "    <tr>\n",
       "      <th>2</th>\n",
       "      <td>AZN</td>\n",
       "      <td>$42.47  +0.11 +0.26%</td>\n",
       "      <td>Imfinzi + tremelimumab (CASPIAN) Small cell lu...</td>\n",
       "      <td>PDUFA priority review</td>\n",
       "      <td>03/29/2020  PDUFA date under priority review a...</td>\n",
       "      <td>12/01/2019</td>\n",
       "    </tr>\n",
       "    <tr>\n",
       "      <th>3</th>\n",
       "      <td>MRSN</td>\n",
       "      <td>$6.31  -0.09 -1.41%</td>\n",
       "      <td>XMT-1536 Ovarian Cancer, Non Small Cell Lung C...</td>\n",
       "      <td>Phase 1</td>\n",
       "      <td>03/30/2020  Phase 1 dose escalation data updat...</td>\n",
       "      <td>03/20/2020</td>\n",
       "    </tr>\n",
       "    <tr>\n",
       "      <th>4</th>\n",
       "      <td>MYOK</td>\n",
       "      <td>$53.42  +0.35 +0.66%</td>\n",
       "      <td>Mavacamten (MYK-461) - MAVERICK-HCM Hypertroph...</td>\n",
       "      <td>Phase 2</td>\n",
       "      <td>03/30/2020  Phase 2 top-line data met primary ...</td>\n",
       "      <td>03/19/2020</td>\n",
       "    </tr>\n",
       "  </tbody>\n",
       "</table>\n",
       "</div>"
      ],
      "text/plain": [
       "  Ticker                 Price  \\\n",
       "0   BHVN  $35.28  -0.53 -1.48%   \n",
       "1   DRRX   $1.56  +0.06 +4.00%   \n",
       "2    AZN  $42.47  +0.11 +0.26%   \n",
       "3   MRSN   $6.31  -0.09 -1.41%   \n",
       "4   MYOK  $53.42  +0.35 +0.66%   \n",
       "\n",
       "                                                Drug                  Stage  \\\n",
       "0                 Rimegepant Migraine - preventative                Phase 3   \n",
       "1                 POSIMIR Post-operative pain relief                  PDUFA   \n",
       "2  Imfinzi + tremelimumab (CASPIAN) Small cell lu...  PDUFA priority review   \n",
       "3  XMT-1536 Ovarian Cancer, Non Small Cell Lung C...                Phase 1   \n",
       "4  Mavacamten (MYK-461) - MAVERICK-HCM Hypertroph...                Phase 2   \n",
       "\n",
       "                                            Catalyst Last Updated  \n",
       "0  1Q 2020  01/14/2020  Phase 3 top-line data due...   02/25/2020  \n",
       "1  Revised PDUFA not announced  03/27/2020  CRL F...   01/17/2020  \n",
       "2  03/29/2020  PDUFA date under priority review a...   12/01/2019  \n",
       "3  03/30/2020  Phase 1 dose escalation data updat...   03/20/2020  \n",
       "4  03/30/2020  Phase 2 top-line data met primary ...   03/19/2020  "
      ]
     },
     "execution_count": 3,
     "metadata": {},
     "output_type": "execute_result"
    }
   ],
   "source": [
    "import pandas as pd\n",
    "import requests\n",
    "\n",
    "url = 'https://www.biopharmcatalyst.com/calendars/fda-calendar'\n",
    "\n",
    "header = {\n",
    "  \"User-Agent\": \"Mozilla/5.0 (X11; Linux x86_64) AppleWebKit/537.36 (KHTML, like Gecko) Chrome/50.0.2661.75 Safari/537.36\",\n",
    "  \"X-Requested-With\": \"XMLHttpRequest\"\n",
    "}\n",
    "\n",
    "r = requests.get(url, headers=header)\n",
    "\n",
    "fda_calendar = pd.read_html(r.text, attrs = {'class': 'list-table'})\n",
    "fda_calendar[0].head()"
   ]
  },
  {
   "cell_type": "code",
   "execution_count": null,
   "metadata": {},
   "outputs": [],
   "source": []
  }
 ],
 "metadata": {
  "kernelspec": {
   "display_name": "Python 3",
   "language": "python",
   "name": "python3"
  },
  "language_info": {
   "codemirror_mode": {
    "name": "ipython",
    "version": 3
   },
   "file_extension": ".py",
   "mimetype": "text/x-python",
   "name": "python",
   "nbconvert_exporter": "python",
   "pygments_lexer": "ipython3",
   "version": "3.8.1"
  }
 },
 "nbformat": 4,
 "nbformat_minor": 4
}
