{
 "cells": [
  {
   "cell_type": "markdown",
   "metadata": {},
   "source": [
    "### Задание 1\n",
    "\n",
    "Напишите функцию, которая классифицирует фильмы из материалов занятия по следующим правилам:\n",
    "- оценка 2 и меньше - низкий рейтинг\n",
    "- оценка 4 и меньше - средний рейтинг\n",
    "- оценка 4.5 и 5 - высокий рейтинг\n",
    "\n",
    "Результат классификации запишите в столбец class"
   ]
  },
  {
   "cell_type": "code",
   "execution_count": 1,
   "metadata": {},
   "outputs": [
    {
     "name": "stdout",
     "output_type": "stream",
     "text": [
      "   userId  movieId  rating   timestamp     movie_class\n",
      "0       1       31     2.5  1260759144  низкий рейтинг\n",
      "1       1     1029     3.0  1260759179  низкий рейтинг\n",
      "2       1     1061     3.0  1260759182  низкий рейтинг\n",
      "3       1     1129     2.0  1260759185  низкий рейтинг\n",
      "4       1     1172     4.0  1260759205  низкий рейтинг\n"
     ]
    }
   ],
   "source": [
    "import pandas as pd\n",
    "\n",
    "def movie_class(row):\n",
    "    if row['rating'] <= 2:\n",
    "        return \"низкий рейтинг\"\n",
    "    elif row['rating'] < 4.5:\n",
    "        return \"низкий рейтинг\"\n",
    "    else:\n",
    "        return \"высокий рейтинг\"\n",
    "\n",
    "\n",
    "# movies = pd.read_csv('ml-latest-small/movies.csv')\n",
    "# print(movies.head())\n",
    "ratings = pd.read_csv('ml-latest-small/ratings.csv')\n",
    "ratings['movie_class'] = ratings.apply(movie_class, axis = 1)\n",
    "print(ratings.head())\n"
   ]
  },
  {
   "cell_type": "markdown",
   "metadata": {},
   "source": [
    "### Задание 2\n",
    "\n",
    "Используем файл keywords.csv.\n",
    "\n",
    "Необходимо написать гео-классификатор, который каждой строке сможет выставить географическую принадлежность определенному региону. Т. е. если поисковый запрос содержит название города региона, то в столбце ‘region’ пишется название этого региона. Если поисковый запрос не содержит названия города, то ставим ‘undefined’.\n",
    "\n",
    "Правила распределения по регионам Центр, Северо-Запад и Дальний Восток:\n",
    "```Python\n",
    "geo_data = {\n",
    "'Центр': ['москва', 'тула', 'ярославль'],\n",
    "'Северо-Запад': ['петербург', 'псков', 'мурманск'],\n",
    "'Дальний Восток': ['владивосток', 'сахалин', 'хабаровск']\n",
    "}\n",
    "```\n",
    "Результат классификации запишите в отдельный столбец region."
   ]
  },
  {
   "cell_type": "code",
   "execution_count": 2,
   "metadata": {},
   "outputs": [
    {
     "name": "stdout",
     "output_type": "stream",
     "text": [
      "         keyword     shows     region\n",
      "0             вк  64292779  undefined\n",
      "1  одноклассники  63810309  undefined\n",
      "2          порно  41747114  undefined\n",
      "3           ютуб  39995567  undefined\n",
      "4      вконтакте  21014195  undefined\n",
      "undefined         99253\n",
      "Центр               387\n",
      "Северо-Запад        266\n",
      "Дальний Восток       94\n",
      "Name: region, dtype: int64\n",
      "Wall time: 19.4 s\n"
     ]
    }
   ],
   "source": [
    "%%time\n",
    "\n",
    "import pandas as pd\n",
    "\n",
    "data = pd.read_csv('keywords.csv')\n",
    "\n",
    "geo_data = {\n",
    "'Центр': ['москва', 'тула', 'ярославль'],\n",
    "'Северо-Запад': ['петербург', 'псков', 'мурманск'],\n",
    "'Дальний Восток': ['владивосток', 'сахалин', 'хабаровск']\n",
    "}\n",
    "\n",
    "def get_region(row):\n",
    "    for geo in geo_data.items():\n",
    "        region = geo[0]\n",
    "        for city in geo[1]:\n",
    "            if city in row['keyword']:\n",
    "                return region\n",
    "    return 'undefined'\n",
    "\n",
    "data['region'] = data.apply(get_region, axis=1)\n",
    "print(data.head())\n",
    "print(data['region'].value_counts())"
   ]
  },
  {
   "cell_type": "markdown",
   "metadata": {},
   "source": [
    "### Задание 3 (бонусное)\n",
    "\n",
    "Есть мнение, что “раньше снимали настоящее кино, не то что сейчас”. Ваша задача проверить это утверждение, используя файлы с рейтингами фильмов из прошлого домашнего занятия (файл ratings.csv из базы https://grouplens.org/datasets/movielens). Т. е. проверить верно ли, что с ростом года выпуска фильма его средний рейтинг становится ниже.\n",
    "\n",
    "При этом мы не будем затрагивать субьективные факторы выставления этих рейтингов, а пройдемся по следующему алгоритму:\n",
    "\n",
    "1. В переменную years запишите список из всех годов с 1950 по 2010.\n",
    "2. Напишите функцию production_year, которая каждой строке из названия фильма выставляет год выпуска. Не все названия фильмов содержат год выпуска в одинаковом формате, поэтому используйте следующий алгоритм:\n",
    "\n",
    "    1. для каждой строки пройдите по всем годам списка years\n",
    "    2. если номер года присутствует в названии фильма, то функция возвращает этот год как год выпуска\n",
    "    3. если ни один из номеров года списка years не встретился в названии фильма, то возвращается 1900 год\n",
    "3. Запишите год выпуска фильма по алгоритму пункта 2 в новый столбец ‘year’\n",
    "4. Посчитайте средний рейтинг всех фильмов для каждого значения столбца ‘year’ и отсортируйте результат по убыванию рейтинга"
   ]
  },
  {
   "cell_type": "code",
   "execution_count": 3,
   "metadata": {},
   "outputs": [
    {
     "name": "stdout",
     "output_type": "stream",
     "text": [
      "Wall time: 7.79 s\n"
     ]
    },
    {
     "data": {
      "text/plain": [
       "<matplotlib.axes._subplots.AxesSubplot at 0x24d572f9910>"
      ]
     },
     "execution_count": 3,
     "metadata": {},
     "output_type": "execute_result"
    },
    {
     "data": {
      "image/png": "[encoded data removed]",
      "text/plain": [
       "<Figure size 864x360 with 1 Axes>"
      ]
     },
     "metadata": {
      "needs_background": "light"
     },
     "output_type": "display_data"
    }
   ],
   "source": [
    "%%time\n",
    "%matplotlib inline\n",
    "\n",
    "import pandas as pd\n",
    "import re\n",
    "\n",
    "movies = pd.read_csv('ml-latest-small/movies.csv')\n",
    "# print(movies.head())\n",
    "ratings = pd.read_csv('ml-latest-small/ratings.csv')\n",
    "# print(ratings.head())\n",
    "ratings_names = ratings.merge(movies[['movieId','title']], on='movieId', how='left')\n",
    "# print(ratings_names.head())\n",
    "\n",
    "year_start = 1950\n",
    "year_end = 2010\n",
    "years = range(year_start, year_end+1)\n",
    "\n",
    "regex = '(\\(\\d{4}\\))'\n",
    "\n",
    "def production_year(row, default_year):\n",
    "    if re.search(regex,row['title']):\n",
    "        year = re.findall(regex,row['title'])\n",
    "        year = year[0][1:5]\n",
    "        if int(year) in years:\n",
    "            return int(year) \n",
    "    return default_year\n",
    "\n",
    "ratings_names['year'] = ratings_names.apply(production_year, default_year = 1900, axis = 1)\n",
    "# print(ratings_names.head())\n",
    "(ratings_names.sort_values('year', ascending=False)\n",
    " .groupby('year')\n",
    " .agg({'rating': 'mean'})\n",
    ")['rating'].plot(kind = 'bar', figsize=(12,5), fontsize = 8, yticks = range(0,5+1))\n"
   ]
  },
  {
   "cell_type": "code",
   "execution_count": null,
   "metadata": {},
   "outputs": [],
   "source": []
  }
 ],
 "metadata": {
  "kernelspec": {
   "display_name": "Python 3",
   "language": "python",
   "name": "python3"
  },
  "language_info": {
   "codemirror_mode": {
    "name": "ipython",
    "version": 3
   },
   "file_extension": ".py",
   "mimetype": "text/x-python",
   "name": "python",
   "nbconvert_exporter": "python",
   "pygments_lexer": "ipython3",
   "version": "3.8.1"
  }
 },
 "nbformat": 4,
 "nbformat_minor": 4
}
