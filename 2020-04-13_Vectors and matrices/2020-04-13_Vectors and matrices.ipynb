{
 "cells": [
  {
   "cell_type": "code",
   "execution_count": 1,
   "metadata": {},
   "outputs": [],
   "source": [
    "import numpy as np\n",
    "from matplotlib import pyplot as plt"
   ]
  },
  {
   "cell_type": "markdown",
   "metadata": {},
   "source": [
    "## Задание 1"
   ]
  },
  {
   "cell_type": "markdown",
   "metadata": {},
   "source": [
    "Изобразите с помощью matplotlib. Изобразите точку x + 2y + 3z. Найдите угол между векторами x, y и x, z. "
   ]
  },
  {
   "cell_type": "code",
   "execution_count": 2,
   "metadata": {},
   "outputs": [
    {
     "name": "stdout",
     "output_type": "stream",
     "text": [
      "Угол между векторами x и y = 45.00 deg\n",
      "Угол между векторами x и z = 45.00 deg\n"
     ]
    },
    {
     "data": {
      "image/png": "[encoded data removed]",
      "text/plain": [
       "<Figure size 432x288 with 1 Axes>"
      ]
     },
     "metadata": {
      "needs_background": "light"
     },
     "output_type": "display_data"
    }
   ],
   "source": [
    "x = np.array([1,1])\n",
    "y = np.array([2,0])\n",
    "z = np.array([0,2])\n",
    "\n",
    "sum_vecs  = x+2*y+3*z\n",
    "combined = np.array([x,y,z,sum_vecs])\n",
    "\n",
    "Q = plt.quiver(0,0,combined[:,0], combined[:,1], color=['r','b','g','y'], angles='xy', scale_units='xy', scale = 1)\n",
    "plt.xlim(-1, 8)\n",
    "plt.ylim(-1, 8)\n",
    "\n",
    "\n",
    "len_x = x / np.linalg.norm(x)\n",
    "len_y = y / np.linalg.norm(y)\n",
    "len_z = z / np.linalg.norm(z)\n",
    "\n",
    "deg_rad_xy = np.arccos(np.dot(len_x,len_y))\n",
    "deg_rad_xz = np.arccos(np.dot(len_x,len_z))\n",
    "\n",
    "print(f\"Угол между векторами x и y = {np.rad2deg(deg_rad_xy):.2f} deg\")\n",
    "print(f\"Угол между векторами x и z = {np.rad2deg(deg_rad_xz):.2f} deg\")\n"
   ]
  },
  {
   "cell_type": "markdown",
   "metadata": {},
   "source": [
    "## Задание 2"
   ]
  },
  {
   "cell_type": "markdown",
   "metadata": {},
   "source": [
    "Найдите собственные значения и собственные вектора матриц (необходимо решение на numpy и решение по алгоритму на бумажке). Для матрицы 3x3 можно посмотреть на корни характеристического многочлена, посчитанные в numpy."
   ]
  },
  {
   "cell_type": "code",
   "execution_count": 3,
   "metadata": {},
   "outputs": [
    {
     "name": "stdout",
     "output_type": "stream",
     "text": [
      "[[2 2]\n",
      " [1 3]]\n",
      "Собственное значение 1.0\n",
      "соответствующий ему собственный вектор [-0.89442719  0.4472136 ]\n",
      "Собственное значение 4.0\n",
      "соответствующий ему собственный вектор [-0.70710678 -0.70710678]\n",
      "\n",
      "[[ 4  1 -1]\n",
      " [ 1  4 -1]\n",
      " [-1 -1  4]]\n",
      "Собственное значение 5.999999999999998\n",
      "соответствующий ему собственный вектор [-0.57735027 -0.57735027  0.57735027]\n",
      "Собственное значение 2.9999999999999982\n",
      "соответствующий ему собственный вектор [-0.81649658  0.40824829 -0.40824829]\n",
      "Собственное значение 2.9999999999999996\n",
      "соответствующий ему собственный вектор [0.15430335 0.6172134  0.77151675]\n",
      "\n"
     ]
    }
   ],
   "source": [
    "m1 = np.array([[2, 2],\n",
    "               [1, 3]])\n",
    "\n",
    "m2 = np.array([[4, 1, -1],\n",
    "               [1, 4, -1],\n",
    "               [-1, -1, 4]])\n",
    "\n",
    "combined = [m1,m2]\n",
    "\n",
    "def lambdas_and_vectors_numpy(matrics):\n",
    "    w, v = np.linalg.eig(matrics)\n",
    "    for i in range(len(w)):\n",
    "        print(\"Собственное значение \" + str(w[i]))\n",
    "        print(\"соответствующий ему собственный вектор \" + str(v[:,i]))\n",
    "    return(w,v)\n",
    "\n",
    "for m in combined:\n",
    "    print(m)\n",
    "    lambdas_and_vectors_numpy(m)\n",
    "    print()\n",
    "\n"
   ]
  },
  {
   "cell_type": "markdown",
   "metadata": {},
   "source": [
    "## Задание 3"
   ]
  },
  {
   "cell_type": "markdown",
   "metadata": {},
   "source": [
    "Найдите сингулярное разложение матрицы."
   ]
  },
  {
   "cell_type": "code",
   "execution_count": 4,
   "metadata": {},
   "outputs": [],
   "source": [
    "m3 = np.array([[1, 2],\n",
    "               [2, 3]])\n"
   ]
  },
  {
   "cell_type": "code",
   "execution_count": 5,
   "metadata": {},
   "outputs": [
    {
     "name": "stdout",
     "output_type": "stream",
     "text": [
      "[[1.17082039 1.89442719]\n",
      " [1.89442719 3.06524758]]\n"
     ]
    }
   ],
   "source": [
    "U, s, V = np.linalg.svd(m3)\n",
    "S = np.zeros((m3.shape[0], m3.shape[1]))\n",
    "S[:m3.shape[0], :m3.shape[0]] = np.diag(s)\n",
    "n_component = 1\n",
    "S = S[:, :n_component]\n",
    "V = V[:n_component, :]\n",
    "A = U.dot(S.dot(V))\n",
    "print(A)"
   ]
  },
  {
   "cell_type": "code",
   "execution_count": 6,
   "metadata": {},
   "outputs": [
    {
     "name": "stdout",
     "output_type": "stream",
     "text": [
      "[[1. 2. 3.]\n",
      " [2. 3. 4.]\n",
      " [4. 5. 6.]]\n"
     ]
    }
   ],
   "source": [
    "#попробовал с матрицей чуть больше\n",
    "m4 = np.array([[1, 2, 3],\n",
    "               [2, 3, 4],\n",
    "               [4, 5, 6]])\n",
    "\n",
    "U, s, V = np.linalg.svd(m4)\n",
    "S = np.zeros((m4.shape[0], m4.shape[1]))\n",
    "S[:m4.shape[0], :m4.shape[0]] = np.diag(s)\n",
    "n_component = 2\n",
    "S = S[:, :n_component]\n",
    "V = V[:n_component, :]\n",
    "A = U.dot(S.dot(V))\n",
    "print(A)"
   ]
  }
 ],
 "metadata": {
  "kernelspec": {
   "display_name": "Python 3",
   "language": "python",
   "name": "python3"
  },
  "language_info": {
   "codemirror_mode": {
    "name": "ipython",
    "version": 3
   },
   "file_extension": ".py",
   "mimetype": "text/x-python",
   "name": "python",
   "nbconvert_exporter": "python",
   "pygments_lexer": "ipython3",
   "version": "3.8.1"
  }
 },
 "nbformat": 4,
 "nbformat_minor": 2
}
